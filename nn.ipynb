{
 "cells": [
  {
   "cell_type": "code",
   "execution_count": 22,
   "id": "e5384dc8-eed7-4fc2-876f-70378b05e4f5",
   "metadata": {},
   "outputs": [],
   "source": [
    "import tensorflow as tf\n",
    "from tensorflow import keras\n",
    "from tensorflow.keras import layers\n",
    "\n",
    "import numpy as np\n",
    "import pandas as pd\n",
    "import matplotlib.pyplot as plt\n",
    "import matplotlib as plt2\n",
    "from sklearn.preprocessing import StandardScaler\n",
    "from sklearn.tree import DecisionTreeClassifier, plot_tree\n",
    "from sklearn.model_selection import train_test_split, RandomizedSearchCV\n",
    "from sklearn.linear_model import LogisticRegression\n",
    "from sklearn.metrics import accuracy_score, classification_report, ConfusionMatrixDisplay, RocCurveDisplay, roc_curve, plot_roc_curve, roc_auc_score\n",
    "from sklearn.svm import SVC"
   ]
  },
  {
   "cell_type": "code",
   "execution_count": 9,
   "id": "7d28826a-1a40-4a92-892d-dbb3ed04fdf4",
   "metadata": {},
   "outputs": [],
   "source": [
    "columns = ['ID', 'Diagnosis', 'Radius', 'Texture', 'Perimeter', 'Area',\n",
    "           'Smoothness', 'Compactness', 'Concavity', 'Concave points',\n",
    "           'Symmetry', 'Fractal dimension']\n",
    "\n",
    "df = pd.read_csv('wdbc.data', index_col=0, usecols=range(12), names=columns)\n",
    "\n",
    "X = df.drop('Diagnosis', axis=1).values\n",
    "y = df['Diagnosis'].values\n",
    "X = StandardScaler().fit_transform(X)\n",
    "\n",
    "diagnoses = ['B', 'M']\n",
    "encode = {diagnoses[i]: i for i in range(len(diagnoses))}\n",
    "\n",
    "y = [encode[val] for val in y]\n",
    "\n",
    "X_train, X_test, y_train, y_test = train_test_split(X, y, random_state=1, test_size=0.25)\n"
   ]
  },
  {
   "cell_type": "code",
   "execution_count": 10,
   "id": "90a9e2bb-4a63-4f17-b7c8-4053a6f9ed14",
   "metadata": {},
   "outputs": [],
   "source": [
    "y_train = np.array(y_train, dtype=float)\n",
    "y_test = np.array(y_test, dtype=float)"
   ]
  },
  {
   "cell_type": "code",
   "execution_count": 11,
   "id": "2c57fa01-b99b-4fe8-8699-295a7b9b42e2",
   "metadata": {},
   "outputs": [
    {
     "data": {
      "text/plain": [
       "(426, 10)"
      ]
     },
     "execution_count": 11,
     "metadata": {},
     "output_type": "execute_result"
    }
   ],
   "source": [
    "X_train.shape"
   ]
  },
  {
   "cell_type": "code",
   "execution_count": 19,
   "id": "ec20dd36-6fba-46ba-8921-b2a13f28f869",
   "metadata": {},
   "outputs": [
    {
     "name": "stdout",
     "output_type": "stream",
     "text": [
      "Epoch 1/20\n",
      "14/14 [==============================] - 0s 4ms/step - loss: 0.4099 - binary_accuracy: 0.8380 - val_loss: 0.2252 - val_binary_accuracy: 0.9231\n",
      "Epoch 2/20\n",
      "14/14 [==============================] - 0s 1ms/step - loss: 0.1579 - binary_accuracy: 0.9343 - val_loss: 0.1866 - val_binary_accuracy: 0.9231\n",
      "Epoch 3/20\n",
      "14/14 [==============================] - 0s 1ms/step - loss: 0.1383 - binary_accuracy: 0.9413 - val_loss: 0.2047 - val_binary_accuracy: 0.9161\n",
      "Epoch 4/20\n",
      "14/14 [==============================] - 0s 1ms/step - loss: 0.1281 - binary_accuracy: 0.9484 - val_loss: 0.1672 - val_binary_accuracy: 0.9301\n",
      "Epoch 5/20\n",
      "14/14 [==============================] - 0s 1ms/step - loss: 0.1174 - binary_accuracy: 0.9554 - val_loss: 0.1613 - val_binary_accuracy: 0.9301\n",
      "Epoch 6/20\n",
      "14/14 [==============================] - 0s 1ms/step - loss: 0.1087 - binary_accuracy: 0.9577 - val_loss: 0.1695 - val_binary_accuracy: 0.9301\n",
      "Epoch 7/20\n",
      "14/14 [==============================] - 0s 1ms/step - loss: 0.1210 - binary_accuracy: 0.9484 - val_loss: 0.1685 - val_binary_accuracy: 0.9301\n",
      "Epoch 8/20\n",
      "14/14 [==============================] - 0s 1ms/step - loss: 0.1091 - binary_accuracy: 0.9531 - val_loss: 0.1499 - val_binary_accuracy: 0.9301\n",
      "Epoch 9/20\n",
      "14/14 [==============================] - 0s 1ms/step - loss: 0.1029 - binary_accuracy: 0.9531 - val_loss: 0.1564 - val_binary_accuracy: 0.9371\n",
      "Epoch 10/20\n",
      "14/14 [==============================] - 0s 1ms/step - loss: 0.0977 - binary_accuracy: 0.9624 - val_loss: 0.1609 - val_binary_accuracy: 0.9301\n",
      "Epoch 11/20\n",
      "14/14 [==============================] - 0s 1ms/step - loss: 0.0886 - binary_accuracy: 0.9601 - val_loss: 0.1481 - val_binary_accuracy: 0.9371\n",
      "Epoch 12/20\n",
      "14/14 [==============================] - 0s 1ms/step - loss: 0.0802 - binary_accuracy: 0.9671 - val_loss: 0.1600 - val_binary_accuracy: 0.9371\n",
      "Epoch 13/20\n",
      "14/14 [==============================] - 0s 1ms/step - loss: 0.0767 - binary_accuracy: 0.9718 - val_loss: 0.1435 - val_binary_accuracy: 0.9371\n",
      "Epoch 14/20\n",
      "14/14 [==============================] - 0s 1ms/step - loss: 0.0735 - binary_accuracy: 0.9718 - val_loss: 0.1516 - val_binary_accuracy: 0.9441\n",
      "Epoch 15/20\n",
      "14/14 [==============================] - 0s 1ms/step - loss: 0.0827 - binary_accuracy: 0.9624 - val_loss: 0.1451 - val_binary_accuracy: 0.9510\n",
      "Epoch 16/20\n",
      "14/14 [==============================] - 0s 1ms/step - loss: 0.0665 - binary_accuracy: 0.9671 - val_loss: 0.1913 - val_binary_accuracy: 0.9371\n",
      "Epoch 17/20\n",
      "14/14 [==============================] - 0s 1ms/step - loss: 0.0633 - binary_accuracy: 0.9718 - val_loss: 0.1713 - val_binary_accuracy: 0.9510\n",
      "Epoch 18/20\n",
      "14/14 [==============================] - 0s 1ms/step - loss: 0.0623 - binary_accuracy: 0.9718 - val_loss: 0.1839 - val_binary_accuracy: 0.9441\n",
      "Epoch 19/20\n",
      "14/14 [==============================] - 0s 1ms/step - loss: 0.0542 - binary_accuracy: 0.9765 - val_loss: 0.1859 - val_binary_accuracy: 0.9510\n",
      "Epoch 20/20\n",
      "14/14 [==============================] - 0s 1ms/step - loss: 0.0516 - binary_accuracy: 0.9742 - val_loss: 0.1898 - val_binary_accuracy: 0.9441\n"
     ]
    },
    {
     "data": {
      "text/plain": [
       "<keras.callbacks.History at 0x16aa4c2b0>"
      ]
     },
     "execution_count": 19,
     "metadata": {},
     "output_type": "execute_result"
    }
   ],
   "source": [
    "model = keras.Sequential(\n",
    "    [\n",
    "        layers.Dense(16, input_shape=(X_train.shape[1],), activation=\"relu\"),\n",
    "        layers.Dense(8, input_shape=(X_train.shape[1],), activation=\"relu\"),\n",
    "        layers.Dense(1, activation='sigmoid'),\n",
    "    ]\n",
    ")\n",
    "\n",
    "model.compile(loss='binary_crossentropy',\n",
    "              optimizer=tf.keras.optimizers.Adam(learning_rate=0.02), \n",
    "              metrics=['binary_accuracy'])\n",
    "\n",
    "model.fit(X_train, y_train, validation_data=(X_test, y_test), epochs=20)"
   ]
  },
  {
   "cell_type": "code",
   "execution_count": 20,
   "id": "38edc49f-ef9c-4fcc-b2cc-aa52ac214155",
   "metadata": {},
   "outputs": [
    {
     "name": "stdout",
     "output_type": "stream",
     "text": [
      "5/5 [==============================] - 0s 434us/step\n"
     ]
    },
    {
     "data": {
      "image/png": "[encoded data removed]",
      "text/plain": [
       "<Figure size 640x480 with 2 Axes>"
      ]
     },
     "metadata": {},
     "output_type": "display_data"
    },
    {
     "name": "stdout",
     "output_type": "stream",
     "text": [
      "              precision    recall  f1-score   support\n",
      "\n",
      "           0       1.00      0.65      0.79       135\n",
      "           1       0.15      1.00      0.25         8\n",
      "\n",
      "    accuracy                           0.67       143\n",
      "   macro avg       0.57      0.83      0.52       143\n",
      "weighted avg       0.95      0.67      0.76       143\n",
      "\n"
     ]
    }
   ],
   "source": [
    "y_pred = model.predict(X_test)\n",
    "y_pred = [int(y) for y in y_pred]\n",
    "conf = ConfusionMatrixDisplay.from_predictions(y_test, y_pred, cmap='Blues');\n",
    "plt.show()\n",
    "print(classification_report(y_pred, y_test))"
   ]
  },
  {
   "cell_type": "code",
   "execution_count": 21,
   "id": "6bf1a2cd-da39-4657-8aed-8b41076d35c4",
   "metadata": {},
   "outputs": [
    {
     "name": "stdout",
     "output_type": "stream",
     "text": [
      "14/14 [==============================] - 0s 413us/step\n"
     ]
    },
    {
     "data": {
      "image/png": "[encoded data removed]",
      "text/plain": [
       "<Figure size 640x480 with 2 Axes>"
      ]
     },
     "metadata": {},
     "output_type": "display_data"
    },
    {
     "name": "stdout",
     "output_type": "stream",
     "text": [
      "              precision    recall  f1-score   support\n",
      "\n",
      "           0       1.00      0.69      0.82       391\n",
      "           1       0.22      1.00      0.36        35\n",
      "\n",
      "    accuracy                           0.71       426\n",
      "   macro avg       0.61      0.84      0.59       426\n",
      "weighted avg       0.94      0.71      0.78       426\n",
      "\n"
     ]
    }
   ],
   "source": [
    "y_pred = model.predict(X_train)\n",
    "y_pred = [int(y) for y in y_pred]\n",
    "conf = ConfusionMatrixDisplay.from_predictions(y_train, y_pred, cmap='Blues');\n",
    "plt.show()\n",
    "print(classification_report(y_pred, y_train))"
   ]
  },
  {
   "cell_type": "code",
   "execution_count": null,
   "id": "a201e6f0-ca79-4a89-9c81-80a742b7c043",
   "metadata": {},
   "outputs": [],
   "source": []
  },
  {
   "cell_type": "code",
   "execution_count": null,
   "id": "42393419-5d9f-4f67-8a55-e96ebf0c096c",
   "metadata": {},
   "outputs": [],
   "source": []
  },
  {
   "cell_type": "code",
   "execution_count": null,
   "id": "6c2bafc0-6087-46a3-9cc0-159c772faf30",
   "metadata": {},
   "outputs": [],
   "source": []
  },
  {
   "cell_type": "code",
   "execution_count": null,
   "id": "efc457c7-ac2a-45a9-ad89-86e68ebb87c1",
   "metadata": {},
   "outputs": [],
   "source": []
  }
 ],
 "metadata": {
  "kernelspec": {
   "display_name": "Python 3 (ipykernel)",
   "language": "python",
   "name": "python3"
  },
  "language_info": {
   "codemirror_mode": {
    "name": "ipython",
    "version": 3
   },
   "file_extension": ".py",
   "mimetype": "text/x-python",
   "name": "python",
   "nbconvert_exporter": "python",
   "pygments_lexer": "ipython3",
   "version": "3.9.13"
  }
 },
 "nbformat": 4,
 "nbformat_minor": 5
}
